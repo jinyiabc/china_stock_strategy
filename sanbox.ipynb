{
 "cells": [
  {
   "cell_type": "code",
   "execution_count": 1,
   "id": "5843bef7-f636-415f-bd8e-34eb546d4061",
   "metadata": {
    "execution": {
     "iopub.execute_input": "2022-01-02T05:28:27.374135Z",
     "iopub.status.busy": "2022-01-02T05:28:27.374135Z",
     "iopub.status.idle": "2022-01-02T05:28:27.387105Z",
     "shell.execute_reply": "2022-01-02T05:28:27.387105Z",
     "shell.execute_reply.started": "2022-01-02T05:28:27.374135Z"
    },
    "tags": []
   },
   "outputs": [],
   "source": [
    "%store -r __importLibrary"
   ]
  },
  {
   "cell_type": "code",
   "execution_count": 2,
   "id": "4ddf9916-a395-4ddc-b582-beb48f2b1f55",
   "metadata": {
    "execution": {
     "iopub.execute_input": "2022-01-02T05:28:30.482212Z",
     "iopub.status.busy": "2022-01-02T05:28:30.482212Z",
     "iopub.status.idle": "2022-01-02T05:28:31.982790Z",
     "shell.execute_reply": "2022-01-02T05:28:31.982275Z",
     "shell.execute_reply.started": "2022-01-02T05:28:30.482212Z"
    },
    "tags": []
   },
   "outputs": [
    {
     "name": "stderr",
     "output_type": "stream",
     "text": [
      "  ERROR: Command errored out with exit status 128:\n",
      "   command: git clone -q git://github.com/jinyiabc/china_stock_lib.git 'C:\\Users\\jinyi\\AppData\\Local\\Temp\\pip-req-build-xcmfrzvz'\n",
      "       cwd: None\n",
      "  Complete output (1 lines):\n",
      "  fatal: unable to look up github.com (port 9418) ()\n",
      "  ----------------------------------------\n",
      "WARNING: Discarding git+git://github.com/jinyiabc/china_stock_lib.git. Command errored out with exit status 128: git clone -q git://github.com/jinyiabc/china_stock_lib.git 'C:\\Users\\jinyi\\AppData\\Local\\Temp\\pip-req-build-xcmfrzvz' Check the logs for full command output.\n",
      "ERROR: Command errored out with exit status 128: git clone -q git://github.com/jinyiabc/china_stock_lib.git 'C:\\Users\\jinyi\\AppData\\Local\\Temp\\pip-req-build-xcmfrzvz' Check the logs for full command output.\n"
     ]
    }
   ],
   "source": [
    "__importLibrary"
   ]
  },
  {
   "cell_type": "code",
   "execution_count": 3,
   "id": "302b4104-153a-4433-88ea-d7cdabd28250",
   "metadata": {
    "execution": {
     "iopub.execute_input": "2022-01-02T04:18:03.318112Z",
     "iopub.status.busy": "2022-01-02T04:18:03.318112Z",
     "iopub.status.idle": "2022-01-02T04:18:03.321061Z",
     "shell.execute_reply": "2022-01-02T04:18:03.321061Z",
     "shell.execute_reply.started": "2022-01-02T04:18:03.318112Z"
    }
   },
   "outputs": [],
   "source": [
    "data = Path('csi300')\n",
    "# print(data)"
   ]
  },
  {
   "cell_type": "code",
   "execution_count": 4,
   "id": "1292acde-efd5-4289-9e83-eea3a6dfb94b",
   "metadata": {
    "execution": {
     "iopub.execute_input": "2022-01-02T04:18:05.505379Z",
     "iopub.status.busy": "2022-01-02T04:18:05.505379Z",
     "iopub.status.idle": "2022-01-02T04:18:05.514869Z",
     "shell.execute_reply": "2022-01-02T04:18:05.514869Z",
     "shell.execute_reply.started": "2022-01-02T04:18:05.505379Z"
    },
    "tags": []
   },
   "outputs": [
    {
     "name": "stdout",
     "output_type": "stream",
     "text": [
      "from pathlib import Path\n",
      "import os\n",
      "\n",
      "from datetime import datetime \n",
      "import pandas as pd\n",
      "import matplotlib.pyplot as plt\n",
      "import numpy as np\n",
      "import backtrader as bt\n",
      "\n",
      "from scipy.stats import linregress\n",
      "\n",
      "get_ipython().system(' pip install -q git+git://github.com/jinyiabc/china_stock_lib.git')\n",
      "import wind\n",
      "import get_data\n",
      "\n"
     ]
    }
   ],
   "source": [
    "print( __importLibrary)"
   ]
  },
  {
   "cell_type": "code",
   "execution_count": null,
   "id": "5db09b5d-2b1b-47ab-a801-e5e06c2cf0aa",
   "metadata": {},
   "outputs": [],
   "source": []
  }
 ],
 "metadata": {
  "kernelspec": {
   "display_name": "Python 3 (ipykernel)",
   "language": "python",
   "name": "python3"
  },
  "language_info": {
   "codemirror_mode": {
    "name": "ipython",
    "version": 3
   },
   "file_extension": ".py",
   "mimetype": "text/x-python",
   "name": "python",
   "nbconvert_exporter": "python",
   "pygments_lexer": "ipython3",
   "version": "3.8.12"
  }
 },
 "nbformat": 4,
 "nbformat_minor": 5
}
