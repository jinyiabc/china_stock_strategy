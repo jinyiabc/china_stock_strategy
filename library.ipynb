{
 "cells": [
  {
   "cell_type": "code",
   "execution_count": 8,
   "id": "b73d3ff5-2dfa-4c70-bec0-e18fd90f1cf8",
   "metadata": {
    "execution": {
     "iopub.execute_input": "2022-01-02T04:09:35.990841Z",
     "iopub.status.busy": "2022-01-02T04:09:35.985396Z",
     "iopub.status.idle": "2022-01-02T04:09:57.367099Z",
     "shell.execute_reply": "2022-01-02T04:09:57.367099Z",
     "shell.execute_reply.started": "2022-01-02T04:09:35.990841Z"
    },
    "tags": []
   },
   "outputs": [],
   "source": [
    "from pathlib import Path\n",
    "import os\n",
    "\n",
    "from datetime import datetime \n",
    "import pandas as pd\n",
    "import matplotlib.pyplot as plt\n",
    "import numpy as np\n",
    "import backtrader as bt\n",
    "\n",
    "from scipy.stats import linregress\n",
    "\n",
    "! pip install -q git+git://github.com/jinyiabc/china_stock_lib.git\n",
    "import wind\n",
    "import get_data"
   ]
  },
  {
   "cell_type": "code",
   "execution_count": 9,
   "id": "c9fb97d7-4cbe-46bf-b1a3-2f87dfd42c10",
   "metadata": {
    "execution": {
     "iopub.execute_input": "2022-01-02T04:10:00.986976Z",
     "iopub.status.busy": "2022-01-02T04:10:00.985970Z",
     "iopub.status.idle": "2022-01-02T04:10:00.993946Z",
     "shell.execute_reply": "2022-01-02T04:10:00.993946Z",
     "shell.execute_reply.started": "2022-01-02T04:10:00.986976Z"
    },
    "tags": []
   },
   "outputs": [],
   "source": [
    "%macro -q __importLibrary 1"
   ]
  },
  {
   "cell_type": "code",
   "execution_count": 10,
   "id": "4aea42b9-d5c9-4224-a4c0-acd8f03cf2b9",
   "metadata": {
    "execution": {
     "iopub.execute_input": "2022-01-02T04:10:04.971727Z",
     "iopub.status.busy": "2022-01-02T04:10:04.971727Z",
     "iopub.status.idle": "2022-01-02T04:10:04.986647Z",
     "shell.execute_reply": "2022-01-02T04:10:04.986647Z",
     "shell.execute_reply.started": "2022-01-02T04:10:04.971727Z"
    },
    "tags": []
   },
   "outputs": [
    {
     "name": "stdout",
     "output_type": "stream",
     "text": [
      "Stored '__importLibrary' (Macro)\n"
     ]
    }
   ],
   "source": [
    "%store __importLibrary"
   ]
  },
  {
   "cell_type": "markdown",
   "id": "4ed8f1f7-5043-4424-b07d-5d503551d58d",
   "metadata": {
    "execution": {
     "iopub.execute_input": "2022-01-02T03:43:33.909422Z",
     "iopub.status.busy": "2022-01-02T03:43:33.909422Z",
     "iopub.status.idle": "2022-01-02T03:43:33.913432Z",
     "shell.execute_reply": "2022-01-02T03:43:33.913432Z",
     "shell.execute_reply.started": "2022-01-02T03:43:33.909422Z"
    },
    "tags": []
   },
   "source": [
    "print(__importLibrary)"
   ]
  },
  {
   "cell_type": "markdown",
   "id": "b7056c77-92bf-4957-8474-bf69988554bf",
   "metadata": {},
   "source": [
    "After restart the kernel\n",
    "Usage: \n",
    "1. load the macro\n",
    "%store -r __importLibrary\n",
    "2. Executing the macro \n",
    "__importLibrary"
   ]
  }
 ],
 "metadata": {
  "kernelspec": {
   "display_name": "Python 3 (ipykernel)",
   "language": "python",
   "name": "python3"
  },
  "language_info": {
   "codemirror_mode": {
    "name": "ipython",
    "version": 3
   },
   "file_extension": ".py",
   "mimetype": "text/x-python",
   "name": "python",
   "nbconvert_exporter": "python",
   "pygments_lexer": "ipython3",
   "version": "3.8.12"
  }
 },
 "nbformat": 4,
 "nbformat_minor": 5
}
