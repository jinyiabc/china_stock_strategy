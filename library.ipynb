{
 "cells": [
  {
   "cell_type": "code",
   "execution_count": 1,
   "id": "b73d3ff5-2dfa-4c70-bec0-e18fd90f1cf8",
   "metadata": {
    "execution": {
     "iopub.execute_input": "2022-01-02T05:31:28.706643Z",
     "iopub.status.busy": "2022-01-02T05:31:28.705647Z",
     "iopub.status.idle": "2022-01-02T05:31:29.801280Z",
     "shell.execute_reply": "2022-01-02T05:31:29.801280Z",
     "shell.execute_reply.started": "2022-01-02T05:31:28.706643Z"
    },
    "tags": []
   },
   "outputs": [],
   "source": [
    "from pathlib import Path\n",
    "import os\n",
    "\n",
    "from datetime import datetime \n",
    "import pandas as pd\n",
    "import matplotlib.pyplot as plt\n",
    "import numpy as np\n",
    "import backtrader as bt\n",
    "\n",
    "from scipy.stats import linregress\n"
   ]
  },
  {
   "cell_type": "code",
   "execution_count": 2,
   "id": "c9fb97d7-4cbe-46bf-b1a3-2f87dfd42c10",
   "metadata": {
    "execution": {
     "iopub.execute_input": "2022-01-02T05:31:29.802135Z",
     "iopub.status.busy": "2022-01-02T05:31:29.802135Z",
     "iopub.status.idle": "2022-01-02T05:31:29.817377Z",
     "shell.execute_reply": "2022-01-02T05:31:29.817377Z",
     "shell.execute_reply.started": "2022-01-02T05:31:29.802135Z"
    },
    "tags": []
   },
   "outputs": [],
   "source": [
    "%macro -q __importLibrary1 1"
   ]
  },
  {
   "cell_type": "code",
   "execution_count": 3,
   "id": "58fe6286-d983-4313-a119-f7f7f719b0c8",
   "metadata": {
    "execution": {
     "iopub.execute_input": "2022-01-02T05:31:29.819243Z",
     "iopub.status.busy": "2022-01-02T05:31:29.818252Z",
     "iopub.status.idle": "2022-01-02T05:32:16.715876Z",
     "shell.execute_reply": "2022-01-02T05:32:16.715271Z",
     "shell.execute_reply.started": "2022-01-02T05:31:29.819243Z"
    }
   },
   "outputs": [],
   "source": [
    "! pip install -q git+git://github.com/jinyiabc/china_stock_lib.git\n",
    "import wind\n",
    "import get_data"
   ]
  },
  {
   "cell_type": "code",
   "execution_count": 4,
   "id": "cef75e03-04e2-4a0a-83e0-bc4482224065",
   "metadata": {
    "execution": {
     "iopub.execute_input": "2022-01-02T05:32:16.715876Z",
     "iopub.status.busy": "2022-01-02T05:32:16.715876Z",
     "iopub.status.idle": "2022-01-02T05:32:16.731163Z",
     "shell.execute_reply": "2022-01-02T05:32:16.731163Z",
     "shell.execute_reply.started": "2022-01-02T05:32:16.715876Z"
    },
    "tags": []
   },
   "outputs": [],
   "source": [
    "%macro -q __importLibrary2 3"
   ]
  },
  {
   "cell_type": "code",
   "execution_count": 6,
   "id": "4aea42b9-d5c9-4224-a4c0-acd8f03cf2b9",
   "metadata": {
    "execution": {
     "iopub.execute_input": "2022-01-02T05:32:40.820768Z",
     "iopub.status.busy": "2022-01-02T05:32:40.820768Z",
     "iopub.status.idle": "2022-01-02T05:32:40.830743Z",
     "shell.execute_reply": "2022-01-02T05:32:40.830743Z",
     "shell.execute_reply.started": "2022-01-02T05:32:40.820768Z"
    },
    "tags": []
   },
   "outputs": [
    {
     "name": "stdout",
     "output_type": "stream",
     "text": [
      "Stored '__importLibrary1' (Macro)\n"
     ]
    }
   ],
   "source": [
    "%store __importLibrary1"
   ]
  },
  {
   "cell_type": "code",
   "execution_count": 7,
   "id": "f0817375-2b1a-48b5-9001-4ddb7cc2bb73",
   "metadata": {
    "execution": {
     "iopub.execute_input": "2022-01-02T05:32:54.304152Z",
     "iopub.status.busy": "2022-01-02T05:32:54.304152Z",
     "iopub.status.idle": "2022-01-02T05:32:54.324100Z",
     "shell.execute_reply": "2022-01-02T05:32:54.324100Z",
     "shell.execute_reply.started": "2022-01-02T05:32:54.304152Z"
    }
   },
   "outputs": [
    {
     "name": "stdout",
     "output_type": "stream",
     "text": [
      "Stored '__importLibrary2' (Macro)\n"
     ]
    }
   ],
   "source": [
    "%store __importLibrary2"
   ]
  },
  {
   "cell_type": "markdown",
   "id": "4ed8f1f7-5043-4424-b07d-5d503551d58d",
   "metadata": {
    "execution": {
     "iopub.execute_input": "2022-01-02T03:43:33.909422Z",
     "iopub.status.busy": "2022-01-02T03:43:33.909422Z",
     "iopub.status.idle": "2022-01-02T03:43:33.913432Z",
     "shell.execute_reply": "2022-01-02T03:43:33.913432Z",
     "shell.execute_reply.started": "2022-01-02T03:43:33.909422Z"
    },
    "tags": []
   },
   "source": [
    "print(__importLibrary)"
   ]
  },
  {
   "cell_type": "markdown",
   "id": "b7056c77-92bf-4957-8474-bf69988554bf",
   "metadata": {},
   "source": [
    "After restart the kernel\n",
    "Usage: \n",
    "1. load the macro\n",
    "%store -r __importLibrary\n",
    "2. Executing the macro \n",
    "__importLibrary"
   ]
  }
 ],
 "metadata": {
  "kernelspec": {
   "display_name": "Python 3 (ipykernel)",
   "language": "python",
   "name": "python3"
  },
  "language_info": {
   "codemirror_mode": {
    "name": "ipython",
    "version": 3
   },
   "file_extension": ".py",
   "mimetype": "text/x-python",
   "name": "python",
   "nbconvert_exporter": "python",
   "pygments_lexer": "ipython3",
   "version": "3.8.12"
  }
 },
 "nbformat": 4,
 "nbformat_minor": 5
}
